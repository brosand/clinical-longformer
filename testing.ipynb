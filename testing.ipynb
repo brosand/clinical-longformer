{
 "cells": [
  {
   "cell_type": "code",
   "execution_count": 1,
   "metadata": {},
   "outputs": [
    {
     "name": "stdout",
     "output_type": "stream",
     "text": [
      "2021-02-16 14:39:09.254061: I tensorflow/stream_executor/platform/default/dso_loader.cc:48] Successfully opened dynamic library libcudart.so.10.1\n",
      "Serving TensorBoard on localhost; to expose to the network, use a proxy or pass --bind_all\n",
      "TensorBoard 2.4.1 at http://localhost:6006/ (Press CTRL+C to quit)\n",
      "^C\n"
     ]
    }
   ],
   "source": [
    "%load_ext tensorboard\n"
   ]
  },
  {
   "cell_type": "code",
   "execution_count": 9,
   "metadata": {},
   "outputs": [
    {
     "data": {
      "text/html": [
       "\n",
       "      <iframe id=\"tensorboard-frame-3cdb62b4fc2ed7c3\" width=\"100%\" height=\"800\" frameborder=\"0\">\n",
       "      </iframe>\n",
       "      <script>\n",
       "        (function() {\n",
       "          const frame = document.getElementById(\"tensorboard-frame-3cdb62b4fc2ed7c3\");\n",
       "          const url = new URL(\"/\", window.location);\n",
       "          const port = 8082;\n",
       "          if (port) {\n",
       "            url.port = port;\n",
       "          }\n",
       "          frame.src = url;\n",
       "        })();\n",
       "      </script>\n",
       "    "
      ],
      "text/plain": [
       "<IPython.core.display.HTML object>"
      ]
     },
     "metadata": {},
     "output_type": "display_data"
    }
   ],
   "source": [
    "%tensorboard --logdir experiments/ --host localhost --port 8082"
   ]
  },
  {
   "cell_type": "code",
   "execution_count": 2,
   "metadata": {},
   "outputs": [
    {
     "ename": "ModuleNotFoundError",
     "evalue": "No module named 't'",
     "output_type": "error",
     "traceback": [
      "\u001b[0;31m---------------------------------------------------------------------------\u001b[0m",
      "\u001b[0;31mModuleNotFoundError\u001b[0m                       Traceback (most recent call last)",
      "\u001b[0;32m<ipython-input-2-8ee8da96031a>\u001b[0m in \u001b[0;36m<module>\u001b[0;34m\u001b[0m\n\u001b[0;32m----> 1\u001b[0;31m \u001b[0;32mimport\u001b[0m \u001b[0mt\u001b[0m\u001b[0;34m\u001b[0m\u001b[0;34m\u001b[0m\u001b[0m\n\u001b[0m",
      "\u001b[0;31mModuleNotFoundError\u001b[0m: No module named 't'"
     ]
    }
   ],
   "source": [
    "import t"
   ]
  },
  {
   "cell_type": "code",
   "execution_count": 2,
   "metadata": {},
   "outputs": [
    {
     "data": {
      "text/html": [
       "<div>\n",
       "<style scoped>\n",
       "    .dataframe tbody tr th:only-of-type {\n",
       "        vertical-align: middle;\n",
       "    }\n",
       "\n",
       "    .dataframe tbody tr th {\n",
       "        vertical-align: top;\n",
       "    }\n",
       "\n",
       "    .dataframe thead th {\n",
       "        text-align: right;\n",
       "    }\n",
       "</style>\n",
       "<table border=\"1\" class=\"dataframe\">\n",
       "  <thead>\n",
       "    <tr style=\"text-align: right;\">\n",
       "      <th></th>\n",
       "      <th>path</th>\n",
       "    </tr>\n",
       "  </thead>\n",
       "  <tbody>\n",
       "    <tr>\n",
       "      <th>0</th>\n",
       "      <td>files/p10/p10000032/s50414267.txt</td>\n",
       "    </tr>\n",
       "    <tr>\n",
       "      <th>1</th>\n",
       "      <td>files/p10/p10000032/s53189527.txt</td>\n",
       "    </tr>\n",
       "    <tr>\n",
       "      <th>2</th>\n",
       "      <td>files/p10/p10000032/s53911762.txt</td>\n",
       "    </tr>\n",
       "    <tr>\n",
       "      <th>3</th>\n",
       "      <td>files/p10/p10000032/s56699142.txt</td>\n",
       "    </tr>\n",
       "    <tr>\n",
       "      <th>4</th>\n",
       "      <td>files/p10/p10000764/s57375967.txt</td>\n",
       "    </tr>\n",
       "    <tr>\n",
       "      <th>...</th>\n",
       "      <td>...</td>\n",
       "    </tr>\n",
       "    <tr>\n",
       "      <th>227830</th>\n",
       "      <td>files/p19/p19999442/s58708861.txt</td>\n",
       "    </tr>\n",
       "    <tr>\n",
       "      <th>227831</th>\n",
       "      <td>files/p19/p19999733/s57132437.txt</td>\n",
       "    </tr>\n",
       "    <tr>\n",
       "      <th>227832</th>\n",
       "      <td>files/p19/p19999987/s55368167.txt</td>\n",
       "    </tr>\n",
       "    <tr>\n",
       "      <th>227833</th>\n",
       "      <td>files/p19/p19999987/s58621812.txt</td>\n",
       "    </tr>\n",
       "    <tr>\n",
       "      <th>227834</th>\n",
       "      <td>files/p19/p19999987/s58971208.txt</td>\n",
       "    </tr>\n",
       "  </tbody>\n",
       "</table>\n",
       "<p>227835 rows × 1 columns</p>\n",
       "</div>"
      ],
      "text/plain": [
       "                                     path\n",
       "0       files/p10/p10000032/s50414267.txt\n",
       "1       files/p10/p10000032/s53189527.txt\n",
       "2       files/p10/p10000032/s53911762.txt\n",
       "3       files/p10/p10000032/s56699142.txt\n",
       "4       files/p10/p10000764/s57375967.txt\n",
       "...                                   ...\n",
       "227830  files/p19/p19999442/s58708861.txt\n",
       "227831  files/p19/p19999733/s57132437.txt\n",
       "227832  files/p19/p19999987/s55368167.txt\n",
       "227833  files/p19/p19999987/s58621812.txt\n",
       "227834  files/p19/p19999987/s58971208.txt\n",
       "\n",
       "[227835 rows x 1 columns]"
      ]
     },
     "execution_count": 2,
     "metadata": {},
     "output_type": "execute_result"
    }
   ],
   "source": [
    "\n",
    "notes_mimic_cxr = pd.read_csv('data/mimic-cxr/cxr-study-list.csv.gz',usecols=['path'])\n",
    "\n",
    "notes_mimic_cxr"
   ]
  },
  {
   "cell_type": "code",
   "execution_count": 3,
   "metadata": {},
   "outputs": [
    {
     "name": "stderr",
     "output_type": "stream",
     "text": [
      "Assigning text for radiology studies from directory...: 100%|██████████| 227835/227835 [01:01<00:00, 3733.71it/s]\n"
     ]
    },
    {
     "data": {
      "text/html": [
       "<div>\n",
       "<style scoped>\n",
       "    .dataframe tbody tr th:only-of-type {\n",
       "        vertical-align: middle;\n",
       "    }\n",
       "\n",
       "    .dataframe tbody tr th {\n",
       "        vertical-align: top;\n",
       "    }\n",
       "\n",
       "    .dataframe thead th {\n",
       "        text-align: right;\n",
       "    }\n",
       "</style>\n",
       "<table border=\"1\" class=\"dataframe\">\n",
       "  <thead>\n",
       "    <tr style=\"text-align: right;\">\n",
       "      <th></th>\n",
       "      <th>path</th>\n",
       "      <th>text</th>\n",
       "    </tr>\n",
       "  </thead>\n",
       "  <tbody>\n",
       "    <tr>\n",
       "      <th>0</th>\n",
       "      <td>files/p10/p10000032/s50414267.txt</td>\n",
       "      <td>FINAL REPORT\\...</td>\n",
       "    </tr>\n",
       "    <tr>\n",
       "      <th>1</th>\n",
       "      <td>files/p10/p10000032/s53189527.txt</td>\n",
       "      <td>FINAL REPORT\\...</td>\n",
       "    </tr>\n",
       "    <tr>\n",
       "      <th>2</th>\n",
       "      <td>files/p10/p10000032/s53911762.txt</td>\n",
       "      <td>FINAL REPORT\\...</td>\n",
       "    </tr>\n",
       "    <tr>\n",
       "      <th>3</th>\n",
       "      <td>files/p10/p10000032/s56699142.txt</td>\n",
       "      <td>FINAL REPORT\\...</td>\n",
       "    </tr>\n",
       "    <tr>\n",
       "      <th>4</th>\n",
       "      <td>files/p10/p10000764/s57375967.txt</td>\n",
       "      <td>FINAL REPORT\\...</td>\n",
       "    </tr>\n",
       "    <tr>\n",
       "      <th>...</th>\n",
       "      <td>...</td>\n",
       "      <td>...</td>\n",
       "    </tr>\n",
       "    <tr>\n",
       "      <th>227830</th>\n",
       "      <td>files/p19/p19999442/s58708861.txt</td>\n",
       "      <td>FINAL REPORT\\...</td>\n",
       "    </tr>\n",
       "    <tr>\n",
       "      <th>227831</th>\n",
       "      <td>files/p19/p19999733/s57132437.txt</td>\n",
       "      <td>FINAL REPORT\\...</td>\n",
       "    </tr>\n",
       "    <tr>\n",
       "      <th>227832</th>\n",
       "      <td>files/p19/p19999987/s55368167.txt</td>\n",
       "      <td>FINAL REPORT\\...</td>\n",
       "    </tr>\n",
       "    <tr>\n",
       "      <th>227833</th>\n",
       "      <td>files/p19/p19999987/s58621812.txt</td>\n",
       "      <td>FINAL REPORT\\...</td>\n",
       "    </tr>\n",
       "    <tr>\n",
       "      <th>227834</th>\n",
       "      <td>files/p19/p19999987/s58971208.txt</td>\n",
       "      <td>FINAL REPORT\\...</td>\n",
       "    </tr>\n",
       "  </tbody>\n",
       "</table>\n",
       "<p>227835 rows × 2 columns</p>\n",
       "</div>"
      ],
      "text/plain": [
       "                                     path  \\\n",
       "0       files/p10/p10000032/s50414267.txt   \n",
       "1       files/p10/p10000032/s53189527.txt   \n",
       "2       files/p10/p10000032/s53911762.txt   \n",
       "3       files/p10/p10000032/s56699142.txt   \n",
       "4       files/p10/p10000764/s57375967.txt   \n",
       "...                                   ...   \n",
       "227830  files/p19/p19999442/s58708861.txt   \n",
       "227831  files/p19/p19999733/s57132437.txt   \n",
       "227832  files/p19/p19999987/s55368167.txt   \n",
       "227833  files/p19/p19999987/s58621812.txt   \n",
       "227834  files/p19/p19999987/s58971208.txt   \n",
       "\n",
       "                                                     text  \n",
       "0                                        FINAL REPORT\\...  \n",
       "1                                        FINAL REPORT\\...  \n",
       "2                                        FINAL REPORT\\...  \n",
       "3                                        FINAL REPORT\\...  \n",
       "4                                        FINAL REPORT\\...  \n",
       "...                                                   ...  \n",
       "227830                                   FINAL REPORT\\...  \n",
       "227831                                   FINAL REPORT\\...  \n",
       "227832                                   FINAL REPORT\\...  \n",
       "227833                                   FINAL REPORT\\...  \n",
       "227834                                   FINAL REPORT\\...  \n",
       "\n",
       "[227835 rows x 2 columns]"
      ]
     },
     "execution_count": 3,
     "metadata": {},
     "output_type": "execute_result"
    }
   ],
   "source": [
    "\n",
    "# notes_mimic_cxr = pd.read_csv('data/mimim-cxr/cxr-study-list.csv.gz',usecols=['path'])\n",
    "#make sure reports are downloaded and unzipped properly\n",
    "# from tqdm.notebook import tqdm_notebook\n",
    "from tqdm import tqdm\n",
    "\n",
    "def get_text(row):\n",
    "    fpath= 'data/mimic-cxr/'+row\n",
    "    with open(fpath, 'r') as file:\n",
    "        text = file.read()\n",
    "    return text\n",
    "\n",
    "tqdm.pandas(desc='Assigning text for radiology studies from directory...')\n",
    "notes_mimic_cxr['text'] = notes_mimic_cxr['path'].progress_apply(get_text)\n",
    "\n",
    "notes_mimic_cxr"
   ]
  },
  {
   "cell_type": "code",
   "execution_count": 4,
   "metadata": {},
   "outputs": [],
   "source": [
    "notes_mimic_cxr = notes_mimic_cxr.drop('path',axis=1)"
   ]
  },
  {
   "cell_type": "code",
   "execution_count": 5,
   "metadata": {},
   "outputs": [
    {
     "data": {
      "text/plain": [
       "'                                 FINAL REPORT\\n SINGLE FRONTAL VIEW OF THE CHEST\\n \\n REASON FOR EXAM:  Intubated patient, hypoxic respiratory failure.\\n \\n Comparison is made with prior study, ___.\\n \\n Cardiac size is normal.  Lines and tubes are in the standard position.  Large\\n right and moderate left pleural effusions are grossly unchanged allowing the\\n differences in positioning of the patient.  Right upper lobe opacity has\\n improved consistent with improving atelectasis.  Pleural effusions are\\n associated with atelectasis, larger on the right side.  There is mild vascular\\n congestion.\\n'"
      ]
     },
     "execution_count": 5,
     "metadata": {},
     "output_type": "execute_result"
    }
   ],
   "source": [
    "notes_mimic_cxr.iloc[107].text"
   ]
  },
  {
   "cell_type": "code",
   "execution_count": 6,
   "metadata": {},
   "outputs": [],
   "source": [
    "combined = pd.concat([notes_mimic_iii,notes_mimic_cxr])"
   ]
  },
  {
   "cell_type": "code",
   "execution_count": 79,
   "metadata": {},
   "outputs": [],
   "source": [
    "\n",
    "\n",
    "def preprocess_and_clean_notes(admin_language, notes_df: pd.DataFrame) -> pd.DataFrame:\n",
    "    \"\"\"remove redundant information from the free text, which are discharge summaries,\n",
    "    using both common NLP techniques and heuristic rules\n",
    "\n",
    "    Args:\n",
    "        notes_df (pd.DataFrame): MimicIII's NOTEEVENTS.csv.gz, including the columns:\n",
    "            ['ROW_ID', 'SUBJECT_ID', 'HADM_ID', 'CHARTDATE', 'CHARTTIME',\n",
    "            'STORETIME', 'CATEGORY', 'DESCRIPTION', 'CGID', 'ISERROR', 'TEXT']\n",
    "\n",
    "    Returns:\n",
    "        pd.DataFrame: notes_df, filtered of redundant text\n",
    "    \"\"\"\n",
    "    logger.info(\n",
    "        \"Removing de-id token, admin language and other cruft...\")\n",
    "    with tqdm(total=3+len(admin_language)+6) as pbar:\n",
    "        # notes_df[\"TEXT\"] = notes_df[\"TEXT\"].str.lower()\n",
    "        # pbar.update(1)\n",
    "        notes_df[\"text\"] = notes_df[\"text\"].replace(r\"\\[.*?\\]\", \"\", regex=True)\n",
    "        pbar.update(1)\n",
    "        for admin_token in admin_language:\n",
    "            # Removing admin language...\n",
    "            notes_df[\"text\"] = notes_df[\"text\"].str.replace(admin_token, \"\")\n",
    "            pbar.update(1)\n",
    "        for original, replacement in [\n",
    "            (\"\\n\", \" \"),\n",
    "            (\"\\n\\n\", \" \"),\n",
    "            (\"\\n\\n\\n\", \" \"),\n",
    "            (\"w/\", \"with\"),\n",
    "            (\"_\", \"\"),\n",
    "            (\"#\", \"\"),\n",
    "            (\"\\d+\", \"\"),\n",
    "            ('\\s+', ' '),\n",
    "            ('\\\"', '')\n",
    "        ]:\n",
    "            notes_df[\"text\"] = notes_df[\"text\"].str.replace(\n",
    "                original, replacement)\n",
    "            pbar.update(1)\n",
    "        pbar.update(1)\n",
    "    return notes_df\n",
    "\n",
    "\n",
    "class AdminLanguage:\n",
    "    def __init__(self):\n",
    "        self.explicit_removal = [\n",
    "        \"FINAL REPORT\",\n",
    "        \"Admission Date\",\n",
    "        \"Discharge Date\",\n",
    "        \"Date of Birth\",\n",
    "        \"Phone\",\n",
    "        \"Date/Time\",\n",
    "        \"ID\",\n",
    "        \"Completed by\",\n",
    "        \"Dictated By\",\n",
    "        \"Attending\",\n",
    "        \"Provider: \",\n",
    "        \"Provider\",\n",
    "        \"Primary\",\n",
    "        \"Secondary\",\n",
    "        \" MD Phone\",\n",
    "        \" M.D. Phone\",\n",
    "        \" MD\",\n",
    "        \" PHD\",\n",
    "        \" X\",\n",
    "        \" IV\",\n",
    "        \" VI\",\n",
    "        \" III\",\n",
    "        \" II\",\n",
    "        \" VIII\",\n",
    "        \"JOB#\",\n",
    "        \"JOB#: cc\",\n",
    "        \"# Code\",\n",
    "        \"Metoprolol Tartrate 25 mg Tablet Sig\",\n",
    "        \")\",\n",
    "        \"000 unit/mL Suspension Sig\",\n",
    "        \"0.5 % Drops \",\n",
    "        \"   Status: Inpatient DOB\",\n",
    "        \"Levothyroxine 50 mcg Tablet Sig\",\n",
    "        \"0.5 % Drops Sig\",\n",
    "        \"Lidocaine 5 %(700 mg/patch) Adhesive Patch\",\n",
    "        \"Clopidogrel Bisulfate 75 mg Tablet Sig\",\n",
    "        \"Levofloxacin 500 mg Tablet Sig\",\n",
    "        \"Albuterol 90 mcg/Actuation Aerosol \",\n",
    "        \"None Tech Quality: Adequate Tape #\",\n",
    "        \"000 unit/mL Solution Sig\",\n",
    "        \" x\",\n",
    "        \" am\",\n",
    "        \" pm\",\n",
    "    ]"
   ]
  },
  {
   "cell_type": "code",
   "execution_count": 80,
   "metadata": {},
   "outputs": [],
   "source": [
    "combined_sample = combined[-1000:]"
   ]
  },
  {
   "cell_type": "code",
   "execution_count": 81,
   "metadata": {},
   "outputs": [],
   "source": [
    "from loguru import logger"
   ]
  },
  {
   "cell_type": "code",
   "execution_count": 82,
   "metadata": {},
   "outputs": [
    {
     "name": "stderr",
     "output_type": "stream",
     "text": [
      "2020-11-02 21:52:08.453 | INFO     | __main__:preprocess_and_clean_notes:14 - Removing de-id token, admin language and other cruft...\n",
      "54it [00:00, 447.56it/s]                        \n"
     ]
    },
    {
     "data": {
      "text/html": [
       "<div>\n",
       "<style scoped>\n",
       "    .dataframe tbody tr th:only-of-type {\n",
       "        vertical-align: middle;\n",
       "    }\n",
       "\n",
       "    .dataframe tbody tr th {\n",
       "        vertical-align: top;\n",
       "    }\n",
       "\n",
       "    .dataframe thead th {\n",
       "        text-align: right;\n",
       "    }\n",
       "</style>\n",
       "<table border=\"1\" class=\"dataframe\">\n",
       "  <thead>\n",
       "    <tr style=\"text-align: right;\">\n",
       "      <th></th>\n",
       "      <th>text</th>\n",
       "    </tr>\n",
       "  </thead>\n",
       "  <tbody>\n",
       "    <tr>\n",
       "      <th>226835</th>\n",
       "      <td>HISTORY: Difficulty breathing, to assess for ...</td>\n",
       "    </tr>\n",
       "    <tr>\n",
       "      <th>226836</th>\n",
       "      <td>HISTORY: Elevated white count, to assess for ...</td>\n",
       "    </tr>\n",
       "    <tr>\n",
       "      <th>226837</th>\n",
       "      <td>HISTORY: Chest congestion not resolved with a...</td>\n",
       "    </tr>\n",
       "    <tr>\n",
       "      <th>226838</th>\n",
       "      <td>EXAMINATION: CHEST (PA AND LAT INDICATION: ye...</td>\n",
       "    </tr>\n",
       "    <tr>\n",
       "      <th>226839</th>\n",
       "      <td>CHEST RADIOGRAPH PERFORMED ON . COMPARISON: N...</td>\n",
       "    </tr>\n",
       "    <tr>\n",
       "      <th>...</th>\n",
       "      <td>...</td>\n",
       "    </tr>\n",
       "    <tr>\n",
       "      <th>227830</th>\n",
       "      <td>PORTABLE AP CHEST-RAY INDICATION: Patient wit...</td>\n",
       "    </tr>\n",
       "    <tr>\n",
       "      <th>227831</th>\n",
       "      <td>INDICATION: -year-old with chest pain. TECHNI...</td>\n",
       "    </tr>\n",
       "    <tr>\n",
       "      <th>227832</th>\n",
       "      <td>PORTABLE CHEST OF COMPARISON: radiograph. FIN...</td>\n",
       "    </tr>\n",
       "    <tr>\n",
       "      <th>227833</th>\n",
       "      <td>CHEST RADIOGRAPH PERFORMED ON COMPARISON: Pri...</td>\n",
       "    </tr>\n",
       "    <tr>\n",
       "      <th>227834</th>\n",
       "      <td>INDICATION: -year-old female intubated for he...</td>\n",
       "    </tr>\n",
       "  </tbody>\n",
       "</table>\n",
       "<p>1000 rows × 1 columns</p>\n",
       "</div>"
      ],
      "text/plain": [
       "                                                     text\n",
       "226835   HISTORY: Difficulty breathing, to assess for ...\n",
       "226836   HISTORY: Elevated white count, to assess for ...\n",
       "226837   HISTORY: Chest congestion not resolved with a...\n",
       "226838   EXAMINATION: CHEST (PA AND LAT INDICATION: ye...\n",
       "226839   CHEST RADIOGRAPH PERFORMED ON . COMPARISON: N...\n",
       "...                                                   ...\n",
       "227830   PORTABLE AP CHEST-RAY INDICATION: Patient wit...\n",
       "227831   INDICATION: -year-old with chest pain. TECHNI...\n",
       "227832   PORTABLE CHEST OF COMPARISON: radiograph. FIN...\n",
       "227833   CHEST RADIOGRAPH PERFORMED ON COMPARISON: Pri...\n",
       "227834   INDICATION: -year-old female intubated for he...\n",
       "\n",
       "[1000 rows x 1 columns]"
      ]
     },
     "execution_count": 82,
     "metadata": {},
     "output_type": "execute_result"
    }
   ],
   "source": [
    "combined_sample = preprocess_and_clean_notes(AdminLanguage().explicit_removal,combined_sample)\n",
    "combined_sample"
   ]
  },
  {
   "cell_type": "code",
   "execution_count": 83,
   "metadata": {},
   "outputs": [],
   "source": [
    "combined_sample = combined_sample['text'] + '\\n\\n'"
   ]
  },
  {
   "cell_type": "code",
   "execution_count": 76,
   "metadata": {},
   "outputs": [],
   "source": [
    "import csv"
   ]
  },
  {
   "cell_type": "code",
   "execution_count": 84,
   "metadata": {},
   "outputs": [],
   "source": [
    "combined_sample.to_csv('TEST.raw',sep='\\n',header=None,index=None)"
   ]
  },
  {
   "cell_type": "code",
   "execution_count": 87,
   "metadata": {},
   "outputs": [
    {
     "data": {
      "text/html": [
       "<div>\n",
       "<style scoped>\n",
       "    .dataframe tbody tr th:only-of-type {\n",
       "        vertical-align: middle;\n",
       "    }\n",
       "\n",
       "    .dataframe tbody tr th {\n",
       "        vertical-align: top;\n",
       "    }\n",
       "\n",
       "    .dataframe thead th {\n",
       "        text-align: right;\n",
       "    }\n",
       "</style>\n",
       "<table border=\"1\" class=\"dataframe\">\n",
       "  <thead>\n",
       "    <tr style=\"text-align: right;\">\n",
       "      <th></th>\n",
       "      <th>0</th>\n",
       "    </tr>\n",
       "  </thead>\n",
       "  <tbody>\n",
       "    <tr>\n",
       "      <th>0</th>\n",
       "      <td>HISTORY: Difficulty breathing, to assess for ...</td>\n",
       "    </tr>\n",
       "    <tr>\n",
       "      <th>1</th>\n",
       "      <td>HISTORY: Elevated white count, to assess for ...</td>\n",
       "    </tr>\n",
       "    <tr>\n",
       "      <th>2</th>\n",
       "      <td>HISTORY: Chest congestion not resolved with a...</td>\n",
       "    </tr>\n",
       "    <tr>\n",
       "      <th>3</th>\n",
       "      <td>EXAMINATION: CHEST (PA AND LAT INDICATION: ye...</td>\n",
       "    </tr>\n",
       "    <tr>\n",
       "      <th>4</th>\n",
       "      <td>CHEST RADIOGRAPH PERFORMED ON . COMPARISON: N...</td>\n",
       "    </tr>\n",
       "    <tr>\n",
       "      <th>...</th>\n",
       "      <td>...</td>\n",
       "    </tr>\n",
       "    <tr>\n",
       "      <th>995</th>\n",
       "      <td>PORTABLE AP CHEST-RAY INDICATION: Patient wit...</td>\n",
       "    </tr>\n",
       "    <tr>\n",
       "      <th>996</th>\n",
       "      <td>INDICATION: -year-old with chest pain. TECHNI...</td>\n",
       "    </tr>\n",
       "    <tr>\n",
       "      <th>997</th>\n",
       "      <td>PORTABLE CHEST OF COMPARISON: radiograph. FIN...</td>\n",
       "    </tr>\n",
       "    <tr>\n",
       "      <th>998</th>\n",
       "      <td>CHEST RADIOGRAPH PERFORMED ON COMPARISON: Pri...</td>\n",
       "    </tr>\n",
       "    <tr>\n",
       "      <th>999</th>\n",
       "      <td>INDICATION: -year-old female intubated for he...</td>\n",
       "    </tr>\n",
       "  </tbody>\n",
       "</table>\n",
       "<p>1000 rows × 1 columns</p>\n",
       "</div>"
      ],
      "text/plain": [
       "                                                     0\n",
       "0     HISTORY: Difficulty breathing, to assess for ...\n",
       "1     HISTORY: Elevated white count, to assess for ...\n",
       "2     HISTORY: Chest congestion not resolved with a...\n",
       "3     EXAMINATION: CHEST (PA AND LAT INDICATION: ye...\n",
       "4     CHEST RADIOGRAPH PERFORMED ON . COMPARISON: N...\n",
       "..                                                 ...\n",
       "995   PORTABLE AP CHEST-RAY INDICATION: Patient wit...\n",
       "996   INDICATION: -year-old with chest pain. TECHNI...\n",
       "997   PORTABLE CHEST OF COMPARISON: radiograph. FIN...\n",
       "998   CHEST RADIOGRAPH PERFORMED ON COMPARISON: Pri...\n",
       "999   INDICATION: -year-old female intubated for he...\n",
       "\n",
       "[1000 rows x 1 columns]"
      ]
     },
     "execution_count": 87,
     "metadata": {},
     "output_type": "execute_result"
    }
   ],
   "source": [
    "pd.read_csv('TEST.raw',header=None)"
   ]
  },
  {
   "cell_type": "code",
   "execution_count": null,
   "metadata": {},
   "outputs": [],
   "source": []
  }
 ],
 "metadata": {
  "kernelspec": {
   "display_name": "Python 3",
   "language": "python",
   "name": "python3"
  },
  "language_info": {
   "codemirror_mode": {
    "name": "ipython",
    "version": 3
   },
   "file_extension": ".py",
   "mimetype": "text/x-python",
   "name": "python",
   "nbconvert_exporter": "python",
   "pygments_lexer": "ipython3",
   "version": "3.8.6"
  }
 },
 "nbformat": 4,
 "nbformat_minor": 2
}
